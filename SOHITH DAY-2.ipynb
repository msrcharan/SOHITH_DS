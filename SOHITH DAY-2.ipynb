{
 "cells": [
  {
   "cell_type": "markdown",
   "id": "3d551834",
   "metadata": {},
   "source": [
    "# APSSDC DAY-1"
   ]
  },
  {
   "cell_type": "markdown",
   "id": "42c1ea88",
   "metadata": {},
   "source": [
    "#### 1.Write a program to check wheather the user eligible for vote or not \n"
   ]
  },
  {
   "cell_type": "code",
   "execution_count": 4,
   "id": "99102649",
   "metadata": {},
   "outputs": [
    {
     "name": "stdout",
     "output_type": "stream",
     "text": [
      "what is your age 18\n",
      "you are not eligible to vote\n"
     ]
    }
   ],
   "source": [
    "age=int(input(\"what is your age \"))\n",
    "if (age<18):\n",
    "    print(\"you are not eligible to vote\")\n",
    "elif (age>18):\n",
    "    print(\"you are eligible to vote\")\n",
    "elif (age==18):\n",
    "    print(\"you are not eligible to vote\")\n",
    "else:\n",
    "    print(\"error\")"
   ]
  },
  {
   "cell_type": "markdown",
   "id": "7dd2939e",
   "metadata": {},
   "source": [
    "#### 2. Check the given number is positive or negative \n"
   ]
  },
  {
   "cell_type": "code",
   "execution_count": 8,
   "id": "9f200750",
   "metadata": {},
   "outputs": [
    {
     "name": "stdout",
     "output_type": "stream",
     "text": [
      "enter number0\n",
      "zero\n"
     ]
    }
   ],
   "source": [
    "x=int(input(\"enter number\"))\n",
    "if (x>0):\n",
    "    print(\"it is positive\")\n",
    "elif (x<0):\n",
    "    print(\"it is negative\")\n",
    "else:\n",
    "    print(\"zero\")"
   ]
  },
  {
   "cell_type": "markdown",
   "id": "02008902",
   "metadata": {},
   "source": [
    "#### 3. check the given number is even or odd if it's even check which is divisible by 4 or not"
   ]
  },
  {
   "cell_type": "code",
   "execution_count": 12,
   "id": "8421a10b",
   "metadata": {},
   "outputs": [
    {
     "name": "stdout",
     "output_type": "stream",
     "text": [
      "take a number18\n",
      "taken number is even\n"
     ]
    }
   ],
   "source": [
    "x=int (input(\"take a number\"))\n",
    "if (x%2==0):\n",
    "    print(\"taken number is even\")\n",
    "    if (x%4==0):\n",
    "        print(\"taken number is divisible by 4\")\n",
    "elif (x%2!=0):\n",
    "    print(\"taken number is odd\")\n",
    "else:\n",
    "    print(\"error\")\n",
    "    \n"
   ]
  },
  {
   "cell_type": "markdown",
   "id": "b15ada7b",
   "metadata": {},
   "source": [
    "#### 4. write a program to print student grade based on persentage like Distinction,pass or fail \n"
   ]
  },
  {
   "cell_type": "code",
   "execution_count": 14,
   "id": "69dd8726",
   "metadata": {},
   "outputs": [
    {
     "name": "stdout",
     "output_type": "stream",
     "text": [
      "enter percentage95\n",
      "distinction \n"
     ]
    }
   ],
   "source": [
    "x=int(input(\"enter percentage\"))\n",
    "if (x>75):\n",
    "    print(\"distinction \")\n",
    "elif (x>50 and x<75):\n",
    "    print (\"pass\")\n",
    "elif (x<50):\n",
    "    print(\"fail\")\n",
    "else:\n",
    "    print(\"error\")\n",
    "    "
   ]
  },
  {
   "cell_type": "markdown",
   "id": "957545ed",
   "metadata": {},
   "source": [
    "#### 5. Check the given year is Leap or not"
   ]
  },
  {
   "cell_type": "code",
   "execution_count": 16,
   "id": "7257294a",
   "metadata": {},
   "outputs": [
    {
     "name": "stdout",
     "output_type": "stream",
     "text": [
      "enter year3036\n",
      "leap year\n"
     ]
    }
   ],
   "source": [
    "x=int (input(\"enter year\"))\n",
    "if (x%4==0):\n",
    "    print(\"leap year\")\n",
    "elif (x%4!=0):\n",
    "    print(\"it is not a leap year\")\n",
    "else:\n",
    "    print(\"error\")"
   ]
  },
  {
   "cell_type": "code",
   "execution_count": null,
   "id": "4dbfabcd",
   "metadata": {},
   "outputs": [],
   "source": []
  }
 ],
 "metadata": {
  "kernelspec": {
   "display_name": "Python 3",
   "language": "python",
   "name": "python3"
  },
  "language_info": {
   "codemirror_mode": {
    "name": "ipython",
    "version": 3
   },
   "file_extension": ".py",
   "mimetype": "text/x-python",
   "name": "python",
   "nbconvert_exporter": "python",
   "pygments_lexer": "ipython3",
   "version": "3.8.8"
  }
 },
 "nbformat": 4,
 "nbformat_minor": 5
}
