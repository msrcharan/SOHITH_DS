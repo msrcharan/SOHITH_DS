{
 "cells": [
  {
   "cell_type": "markdown",
   "id": "6e50be91",
   "metadata": {},
   "source": [
    "#### 1.  1.take input from the user.\n",
    "      check the length of the string even or odd\n",
    "      if the string length is odd access one middle character\n",
    "      If the string length is even access two middle characters"
   ]
  },
  {
   "cell_type": "code",
   "execution_count": 1,
   "id": "b3e83d22",
   "metadata": {},
   "outputs": [
    {
     "name": "stdout",
     "output_type": "stream",
     "text": [
      "Enter a string: enter word\n",
      "r  \n"
     ]
    }
   ],
   "source": [
    "s=input(\"Enter a string: \")\n",
    "s_len=len(s)\n",
    "l=int(s_len/2)\n",
    "if(s_len%2==0):\n",
    "    \n",
    "    \n",
    "    print(s[l-1],s[l])\n",
    "else:\n",
    "    print(s[l])"
   ]
  },
  {
   "cell_type": "code",
   "execution_count": null,
   "id": "d83639bb",
   "metadata": {},
   "outputs": [],
   "source": []
  }
 ],
 "metadata": {
  "kernelspec": {
   "display_name": "Python 3",
   "language": "python",
   "name": "python3"
  },
  "language_info": {
   "codemirror_mode": {
    "name": "ipython",
    "version": 3
   },
   "file_extension": ".py",
   "mimetype": "text/x-python",
   "name": "python",
   "nbconvert_exporter": "python",
   "pygments_lexer": "ipython3",
   "version": "3.8.8"
  }
 },
 "nbformat": 4,
 "nbformat_minor": 5
}
