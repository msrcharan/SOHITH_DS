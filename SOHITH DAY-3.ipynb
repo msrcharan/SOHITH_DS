{
 "cells": [
  {
   "cell_type": "markdown",
   "id": "c441ae7f",
   "metadata": {},
   "source": [
    "#### 1.Take last 3 values of roll number(AP19110010016)\n",
    "#### If value is startswith \"01\" --> 'Cse Dept'\n",
    "#### elif value is startwith \"11\" --> 'It Dept'\n",
    "#### elif values is startswith \"21\" --> 'ECE dept'\n",
    "#### else not an SRM student"
   ]
  },
  {
   "cell_type": "code",
   "execution_count": null,
   "id": "16c2ba3a",
   "metadata": {},
   "outputs": [],
   "source": [
    "rollno=(input(\"enter rollno\"))\n",
    "z=rollno[-3:]\n",
    "print(rollno[:-1])\n",
    "print(z[:-1])\n",
    "if (z[:-1]==\"01\"):\n",
    "    print(\"cse\")\n",
    "elif (z[:-1]==\"11\"):\n",
    "    print(\"it\")\n",
    "elif (z[:-1]==\"21\"):\n",
    "    print(\"ece\")\n",
    "else:\n",
    "    print(\"not srm student\")\n",
    "\n",
    "  \n",
    "\n",
    "\n"
   ]
  },
  {
   "cell_type": "markdown",
   "id": "1e58298f",
   "metadata": {},
   "source": [
    "#### 2.Find all leap years between 1800 to 2020"
   ]
  },
  {
   "cell_type": "code",
   "execution_count": 1,
   "id": "e79b5502",
   "metadata": {},
   "outputs": [
    {
     "name": "stdout",
     "output_type": "stream",
     "text": [
      "1804\t1808\t1812\t1816\t1820\t1824\t1828\t1832\t1836\t1840\t1844\t1848\t1852\t1856\t1860\t1864\t1868\t1872\t1876\t1880\t1884\t1888\t1892\t1896\t1904\t1908\t1912\t1916\t1920\t1924\t1928\t1932\t1936\t1940\t1944\t1948\t1952\t1956\t1960\t1964\t1968\t1972\t1976\t1980\t1984\t1988\t1992\t1996\t2000\t2004\t2008\t2012\t2016\t2020\t"
     ]
    }
   ],
   "source": [
    "for year in range(1800, 2021):\n",
    "    if(year %4==0 and year % 100 !=0) or (year %400==0):\n",
    "        print(year,end = '\\t')\n"
   ]
  },
  {
   "cell_type": "code",
   "execution_count": null,
   "id": "01c43ee4",
   "metadata": {},
   "outputs": [],
   "source": []
  }
 ],
 "metadata": {
  "kernelspec": {
   "display_name": "Python 3",
   "language": "python",
   "name": "python3"
  },
  "language_info": {
   "codemirror_mode": {
    "name": "ipython",
    "version": 3
   },
   "file_extension": ".py",
   "mimetype": "text/x-python",
   "name": "python",
   "nbconvert_exporter": "python",
   "pygments_lexer": "ipython3",
   "version": "3.8.8"
  }
 },
 "nbformat": 4,
 "nbformat_minor": 5
}
